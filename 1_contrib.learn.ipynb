{
 "cells": [
  {
   "cell_type": "code",
   "execution_count": 1,
   "metadata": {},
   "outputs": [],
   "source": [
    "import tensorflow as tf \n",
    "from tensorflow.contrib import learn "
   ]
  },
  {
   "cell_type": "markdown",
   "metadata": {},
   "source": [
    "# Contrib.learn's (predefined estimator(models) / custom estimator)\n",
    "\n",
    "### contrib.learn’s out-of-the-box estimators (a fancy name for models), which we can train in a quick and efficient manner.\n",
    "\n",
    "#### LinearRegressor() == Linear regression model to predict label value given observation of feature values. \n",
    "#### LogisticRegressor() == Logistic regression estimator for binary classification. \n",
    "\n",
    "#### LinearClassifier() == Linear model to classify instances into one of multiple possible classes. (When the number of possible classes is 2, this is binary classification.)\n",
    "\n",
    "#### DNNRegressor() == A regressor for TensorFlow deep neural network (DNN) models. \n",
    "#### DNNClassifier() == A classifier for TensorFlow DNN models.\n",
    "\n"
   ]
  },
  {
   "cell_type": "markdown",
   "metadata": {},
   "source": [
    "\"\"\"\n",
    "1. We instantiate the estimator class to create our model:\n",
    "\n",
    "   model = learn.< some_Estimator > () \n",
    "\n",
    "\n",
    "2. Then we fit it using our training data: \n",
    "   \n",
    "   model.fit() \n",
    "\n",
    "\n",
    "3. We evaluate the model to see how well it does on some given dataset:\n",
    "  \n",
    "   model.evaluate() \n",
    "\n",
    "\n",
    "4. Finally, we use our fitted model to predict outcomes, usually for new data:\n",
    " \n",
    "   model.predict()\n",
    "\n",
    "\n",
    "\"\"\""
   ]
  },
  {
   "cell_type": "markdown",
   "metadata": {},
   "source": [
    "# 1) Linear Regressor"
   ]
  },
  {
   "cell_type": "code",
   "execution_count": 2,
   "metadata": {},
   "outputs": [
    {
     "name": "stdout",
     "output_type": "stream",
     "text": [
      "[[6.3200e-03 1.8000e+01 2.3100e+00 0.0000e+00 5.3800e-01 6.5750e+00\n",
      "  6.5200e+01 4.0900e+00 1.0000e+00 2.9600e+02 1.5300e+01 3.9690e+02\n",
      "  4.9800e+00]\n",
      " [2.7310e-02 0.0000e+00 7.0700e+00 0.0000e+00 4.6900e-01 6.4210e+00\n",
      "  7.8900e+01 4.9671e+00 2.0000e+00 2.4200e+02 1.7800e+01 3.9690e+02\n",
      "  9.1400e+00]\n",
      " [2.7290e-02 0.0000e+00 7.0700e+00 0.0000e+00 4.6900e-01 7.1850e+00\n",
      "  6.1100e+01 4.9671e+00 2.0000e+00 2.4200e+02 1.7800e+01 3.9283e+02\n",
      "  4.0300e+00]\n",
      " [3.2370e-02 0.0000e+00 2.1800e+00 0.0000e+00 4.5800e-01 6.9980e+00\n",
      "  4.5800e+01 6.0622e+00 3.0000e+00 2.2200e+02 1.8700e+01 3.9463e+02\n",
      "  2.9400e+00]]\n",
      "[24.  21.6 34.7 33.4]\n",
      "(506, 13)\n",
      "(506,)\n"
     ]
    }
   ],
   "source": [
    "from sklearn import datasets, metrics, preprocessing\n",
    "\n",
    "#Load Dataset\n",
    "boston = datasets.load_boston() \n",
    "\n",
    "print(boston.data[:4])\n",
    "print(boston.target[:4])\n",
    "\n",
    "print(boston.data.shape)\n",
    "print(boston.target.shape)"
   ]
  },
  {
   "cell_type": "code",
   "execution_count": 3,
   "metadata": {},
   "outputs": [
    {
     "name": "stdout",
     "output_type": "stream",
     "text": [
      "[[-0.41978194  0.28482986 -1.2879095  -0.27259857 -0.14421743  0.41367189\n",
      "  -0.12001342  0.1402136  -0.98284286 -0.66660821 -1.45900038  0.44105193\n",
      "  -1.0755623 ]\n",
      " [-0.41733926 -0.48772236 -0.59338101 -0.27259857 -0.74026221  0.19427445\n",
      "   0.36716642  0.55715988 -0.8678825  -0.98732948 -0.30309415  0.44105193\n",
      "  -0.49243937]\n",
      " [-0.41734159 -0.48772236 -0.59338101 -0.27259857 -0.74026221  1.28271368\n",
      "  -0.26581176  0.55715988 -0.8678825  -0.98732948 -0.30309415  0.39642699\n",
      "  -1.2087274 ]\n",
      " [-0.41675042 -0.48772236 -1.30687771 -0.27259857 -0.83528384  1.01630251\n",
      "  -0.80988851  1.07773662 -0.75292215 -1.10611514  0.1130321   0.41616284\n",
      "  -1.36151682]]\n",
      "[24.  21.6 34.7 33.4]\n",
      "(506, 13)\n",
      "(506,)\n"
     ]
    }
   ],
   "source": [
    "#Preprocess\n",
    "x_data = preprocessing.StandardScaler().fit_transform(boston.data) \n",
    "y_data = boston.target\n",
    "\n",
    "print(x_data[:4])\n",
    "print(y_data[:4])\n",
    "\n",
    "print(x_data.shape)\n",
    "print(y_data.shape)"
   ]
  },
  {
   "cell_type": "code",
   "execution_count": 4,
   "metadata": {},
   "outputs": [
    {
     "name": "stdout",
     "output_type": "stream",
     "text": [
      "WARNING:tensorflow:From <ipython-input-4-f16e7c8508a9>:5: infer_real_valued_columns_from_input (from tensorflow.contrib.learn.python.learn.estimators.estimator) is deprecated and will be removed in a future version.\n",
      "Instructions for updating:\n",
      "Please specify feature columns explicitly.\n",
      "WARNING:tensorflow:From c:\\users\\dell\\anaconda3\\envs\\tf18\\lib\\site-packages\\tensorflow\\contrib\\learn\\python\\learn\\estimators\\estimator.py:143: setup_train_data_feeder (from tensorflow.contrib.learn.python.learn.learn_io.data_feeder) is deprecated and will be removed in a future version.\n",
      "Instructions for updating:\n",
      "Please use tensorflow/transform or tf.data.\n",
      "WARNING:tensorflow:From c:\\users\\dell\\anaconda3\\envs\\tf18\\lib\\site-packages\\tensorflow\\contrib\\learn\\python\\learn\\learn_io\\data_feeder.py:96: extract_dask_data (from tensorflow.contrib.learn.python.learn.learn_io.dask_io) is deprecated and will be removed in a future version.\n",
      "Instructions for updating:\n",
      "Please feed input to tf.data to support dask.\n",
      "WARNING:tensorflow:From c:\\users\\dell\\anaconda3\\envs\\tf18\\lib\\site-packages\\tensorflow\\contrib\\learn\\python\\learn\\learn_io\\data_feeder.py:100: extract_pandas_data (from tensorflow.contrib.learn.python.learn.learn_io.pandas_io) is deprecated and will be removed in a future version.\n",
      "Instructions for updating:\n",
      "Please access pandas data directly.\n",
      "WARNING:tensorflow:From c:\\users\\dell\\anaconda3\\envs\\tf18\\lib\\site-packages\\tensorflow\\contrib\\learn\\python\\learn\\learn_io\\data_feeder.py:159: DataFeeder.__init__ (from tensorflow.contrib.learn.python.learn.learn_io.data_feeder) is deprecated and will be removed in a future version.\n",
      "Instructions for updating:\n",
      "Please use tensorflow/transform or tf.data.\n",
      "WARNING:tensorflow:From c:\\users\\dell\\anaconda3\\envs\\tf18\\lib\\site-packages\\tensorflow\\contrib\\learn\\python\\learn\\learn_io\\data_feeder.py:340: check_array (from tensorflow.contrib.learn.python.learn.learn_io.data_feeder) is deprecated and will be removed in a future version.\n",
      "Instructions for updating:\n",
      "Please convert numpy dtypes explicitly.\n",
      "WARNING:tensorflow:float64 is not supported by many models, consider casting to float32.\n",
      "WARNING:tensorflow:From c:\\users\\dell\\anaconda3\\envs\\tf18\\lib\\site-packages\\tensorflow\\contrib\\learn\\python\\learn\\estimators\\estimator.py:183: infer_real_valued_columns_from_input_fn (from tensorflow.contrib.learn.python.learn.estimators.estimator) is deprecated and will be removed in a future version.\n",
      "Instructions for updating:\n",
      "Please specify feature columns explicitly.\n",
      "WARNING:tensorflow:From c:\\users\\dell\\anaconda3\\envs\\tf18\\lib\\site-packages\\tensorflow\\contrib\\learn\\python\\learn\\estimators\\linear.py:740: regression_head (from tensorflow.contrib.learn.python.learn.estimators.head) is deprecated and will be removed in a future version.\n",
      "Instructions for updating:\n",
      "Please switch to tf.contrib.estimator.*_head.\n",
      "WARNING:tensorflow:From c:\\users\\dell\\anaconda3\\envs\\tf18\\lib\\site-packages\\tensorflow\\contrib\\learn\\python\\learn\\estimators\\estimator.py:1180: BaseEstimator.__init__ (from tensorflow.contrib.learn.python.learn.estimators.estimator) is deprecated and will be removed in a future version.\n",
      "Instructions for updating:\n",
      "Please replace uses of any Estimator from tf.contrib.learn with an Estimator from tf.estimator.*\n",
      "WARNING:tensorflow:From c:\\users\\dell\\anaconda3\\envs\\tf18\\lib\\site-packages\\tensorflow\\contrib\\learn\\python\\learn\\estimators\\estimator.py:428: RunConfig.__init__ (from tensorflow.contrib.learn.python.learn.estimators.run_config) is deprecated and will be removed in a future version.\n",
      "Instructions for updating:\n",
      "When switching to tf.estimator.Estimator, use tf.estimator.RunConfig instead.\n",
      "INFO:tensorflow:Using default config.\n",
      "WARNING:tensorflow:Using temporary folder as model directory: C:\\Users\\DELL\\AppData\\Local\\Temp\\tmpp790bf81\n",
      "INFO:tensorflow:Using config: {'_task_type': None, '_task_id': 0, '_cluster_spec': <tensorflow.python.training.server_lib.ClusterSpec object at 0x00000226BCEAFCF8>, '_master': '', '_num_ps_replicas': 0, '_num_worker_replicas': 0, '_environment': 'local', '_is_chief': True, '_evaluation_master': '', '_train_distribute': None, '_eval_distribute': None, '_device_fn': None, '_tf_config': gpu_options {\n",
      "  per_process_gpu_memory_fraction: 1.0\n",
      "}\n",
      ", '_tf_random_seed': None, '_save_summary_steps': 100, '_save_checkpoints_secs': 600, '_log_step_count_steps': 100, '_protocol': None, '_session_config': None, '_save_checkpoints_steps': None, '_keep_checkpoint_max': 5, '_keep_checkpoint_every_n_hours': 10000, '_model_dir': 'C:\\\\Users\\\\DELL\\\\AppData\\\\Local\\\\Temp\\\\tmpp790bf81'}\n",
      "WARNING:tensorflow:From <ipython-input-4-f16e7c8508a9>:12: calling BaseEstimator.fit (from tensorflow.contrib.learn.python.learn.estimators.estimator) with x is deprecated and will be removed after 2016-12-01.\n",
      "Instructions for updating:\n",
      "Estimator is decoupled from Scikit Learn interface by moving into\n",
      "separate class SKCompat. Arguments x, y and batch_size are only\n",
      "available in the SKCompat class, Estimator will only accept input_fn.\n",
      "Example conversion:\n",
      "  est = Estimator(...) -> est = SKCompat(Estimator(...))\n",
      "WARNING:tensorflow:From <ipython-input-4-f16e7c8508a9>:12: calling BaseEstimator.fit (from tensorflow.contrib.learn.python.learn.estimators.estimator) with y is deprecated and will be removed after 2016-12-01.\n",
      "Instructions for updating:\n",
      "Estimator is decoupled from Scikit Learn interface by moving into\n",
      "separate class SKCompat. Arguments x, y and batch_size are only\n",
      "available in the SKCompat class, Estimator will only accept input_fn.\n",
      "Example conversion:\n",
      "  est = Estimator(...) -> est = SKCompat(Estimator(...))\n",
      "WARNING:tensorflow:From <ipython-input-4-f16e7c8508a9>:12: calling BaseEstimator.fit (from tensorflow.contrib.learn.python.learn.estimators.estimator) with batch_size is deprecated and will be removed after 2016-12-01.\n",
      "Instructions for updating:\n",
      "Estimator is decoupled from Scikit Learn interface by moving into\n",
      "separate class SKCompat. Arguments x, y and batch_size are only\n",
      "available in the SKCompat class, Estimator will only accept input_fn.\n",
      "Example conversion:\n",
      "  est = Estimator(...) -> est = SKCompat(Estimator(...))\n",
      "WARNING:tensorflow:From c:\\users\\dell\\anaconda3\\envs\\tf18\\lib\\site-packages\\tensorflow\\contrib\\learn\\python\\learn\\estimators\\estimator.py:509: SKCompat.__init__ (from tensorflow.contrib.learn.python.learn.estimators.estimator) is deprecated and will be removed in a future version.\n",
      "Instructions for updating:\n",
      "Please switch to the Estimator interface.\n",
      "WARNING:tensorflow:From c:\\users\\dell\\anaconda3\\envs\\tf18\\lib\\site-packages\\tensorflow\\contrib\\learn\\python\\learn\\learn_io\\data_feeder.py:98: extract_dask_labels (from tensorflow.contrib.learn.python.learn.learn_io.dask_io) is deprecated and will be removed in a future version.\n",
      "Instructions for updating:\n",
      "Please feed input to tf.data to support dask.\n",
      "WARNING:tensorflow:From c:\\users\\dell\\anaconda3\\envs\\tf18\\lib\\site-packages\\tensorflow\\contrib\\learn\\python\\learn\\learn_io\\data_feeder.py:102: extract_pandas_labels (from tensorflow.contrib.learn.python.learn.learn_io.pandas_io) is deprecated and will be removed in a future version.\n",
      "Instructions for updating:\n",
      "Please access pandas data directly.\n",
      "WARNING:tensorflow:float64 is not supported by many models, consider casting to float32.\n",
      "WARNING:tensorflow:float64 is not supported by many models, consider casting to float32.\n",
      "WARNING:tensorflow:From c:\\users\\dell\\anaconda3\\envs\\tf18\\lib\\site-packages\\tensorflow\\contrib\\learn\\python\\learn\\estimators\\head.py:678: ModelFnOps.__new__ (from tensorflow.contrib.learn.python.learn.estimators.model_fn) is deprecated and will be removed in a future version.\n",
      "Instructions for updating:\n",
      "When switching to tf.estimator.Estimator, use tf.estimator.EstimatorSpec. You can use the `estimator_spec` method to create an equivalent one.\n",
      "INFO:tensorflow:Create CheckpointSaverHook.\n",
      "INFO:tensorflow:Graph was finalized.\n",
      "INFO:tensorflow:Running local_init_op.\n",
      "INFO:tensorflow:Done running local_init_op.\n",
      "INFO:tensorflow:Saving checkpoints for 0 into C:\\Users\\DELL\\AppData\\Local\\Temp\\tmpp790bf81\\model.ckpt.\n",
      "INFO:tensorflow:loss = 592.1469, step = 0\n",
      "INFO:tensorflow:global_step/sec: 220.008\n",
      "INFO:tensorflow:loss = 21.952911, step = 100 (0.457 sec)\n"
     ]
    },
    {
     "name": "stdout",
     "output_type": "stream",
     "text": [
      "INFO:tensorflow:Saving checkpoints for 200 into C:\\Users\\DELL\\AppData\\Local\\Temp\\tmpp790bf81\\model.ckpt.\n",
      "INFO:tensorflow:Loss for final step: 21.899305.\n",
      "WARNING:tensorflow:From <ipython-input-4-f16e7c8508a9>:13: calling BaseEstimator.evaluate (from tensorflow.contrib.learn.python.learn.estimators.estimator) with x is deprecated and will be removed after 2016-12-01.\n",
      "Instructions for updating:\n",
      "Estimator is decoupled from Scikit Learn interface by moving into\n",
      "separate class SKCompat. Arguments x, y and batch_size are only\n",
      "available in the SKCompat class, Estimator will only accept input_fn.\n",
      "Example conversion:\n",
      "  est = Estimator(...) -> est = SKCompat(Estimator(...))\n",
      "WARNING:tensorflow:From <ipython-input-4-f16e7c8508a9>:13: calling BaseEstimator.evaluate (from tensorflow.contrib.learn.python.learn.estimators.estimator) with y is deprecated and will be removed after 2016-12-01.\n",
      "Instructions for updating:\n",
      "Estimator is decoupled from Scikit Learn interface by moving into\n",
      "separate class SKCompat. Arguments x, y and batch_size are only\n",
      "available in the SKCompat class, Estimator will only accept input_fn.\n",
      "Example conversion:\n",
      "  est = Estimator(...) -> est = SKCompat(Estimator(...))\n",
      "WARNING:tensorflow:float64 is not supported by many models, consider casting to float32.\n",
      "WARNING:tensorflow:float64 is not supported by many models, consider casting to float32.\n",
      "INFO:tensorflow:Starting evaluation at 2018-12-23-11:31:45\n",
      "INFO:tensorflow:Graph was finalized.\n",
      "INFO:tensorflow:Restoring parameters from C:\\Users\\DELL\\AppData\\Local\\Temp\\tmpp790bf81\\model.ckpt-200\n",
      "INFO:tensorflow:Running local_init_op.\n",
      "INFO:tensorflow:Done running local_init_op.\n",
      "INFO:tensorflow:Evaluation [1/1]\n",
      "INFO:tensorflow:Finished evaluation at 2018-12-23-11:31:46\n",
      "INFO:tensorflow:Saving dict for global step 200: global_step = 200, loss = 21.899193\n",
      "{'loss': 21.899193, 'global_step': 200}\n"
     ]
    }
   ],
   "source": [
    "NUM_STEPS = 200 \n",
    "MINIBATCH_SIZE = 506\n",
    "\n",
    "#Initialize Features\n",
    "feature_columns = learn.infer_real_valued_columns_from_input(x_data)\n",
    "\n",
    "#Initialize the estimator (Model)\n",
    "reg = learn.LinearRegressor(feature_columns=feature_columns,\n",
    "                            optimizer=tf.train.GradientDescentOptimizer(learning_rate=0.1)) \n",
    "\n",
    "#Training\n",
    "reg.fit(x_data, boston.target, steps=NUM_STEPS,batch_size=MINIBATCH_SIZE)\n",
    "MSE = reg.evaluate(x_data, boston.target, steps=1)\n",
    "\n",
    "print(MSE)"
   ]
  },
  {
   "cell_type": "code",
   "execution_count": 5,
   "metadata": {},
   "outputs": [
    {
     "name": "stdout",
     "output_type": "stream",
     "text": [
      "WARNING:tensorflow:From <ipython-input-5-e93c8b69cd4e>:4: calling LinearRegressor.predict (from tensorflow.contrib.learn.python.learn.estimators.linear) with as_iterable=False is deprecated and will be removed after 2016-09-15.\n",
      "Instructions for updating:\n",
      "The default behavior of predict() is changing. The default value for\n",
      "as_iterable will change to True, and then the flag will be removed\n",
      "altogether. The behavior of this flag is described below.\n",
      "WARNING:tensorflow:From c:\\users\\dell\\anaconda3\\envs\\tf18\\lib\\site-packages\\tensorflow\\python\\util\\deprecation.py:553: calling LinearRegressor.predict (from tensorflow.contrib.learn.python.learn.estimators.linear) with outputs=None is deprecated and will be removed after 2017-03-01.\n",
      "Instructions for updating:\n",
      "Please switch to predict_scores, or set `outputs` argument.\n",
      "WARNING:tensorflow:From c:\\users\\dell\\anaconda3\\envs\\tf18\\lib\\site-packages\\tensorflow\\contrib\\learn\\python\\learn\\estimators\\linear.py:810: calling LinearRegressor.predict_scores (from tensorflow.contrib.learn.python.learn.estimators.linear) with as_iterable=False is deprecated and will be removed after 2016-09-15.\n",
      "Instructions for updating:\n",
      "The default behavior of predict() is changing. The default value for\n",
      "as_iterable will change to True, and then the flag will be removed\n",
      "altogether. The behavior of this flag is described below.\n",
      "WARNING:tensorflow:From c:\\users\\dell\\anaconda3\\envs\\tf18\\lib\\site-packages\\tensorflow\\contrib\\learn\\python\\learn\\estimators\\linear.py:845: calling BaseEstimator.predict (from tensorflow.contrib.learn.python.learn.estimators.estimator) with x is deprecated and will be removed after 2016-12-01.\n",
      "Instructions for updating:\n",
      "Estimator is decoupled from Scikit Learn interface by moving into\n",
      "separate class SKCompat. Arguments x, y and batch_size are only\n",
      "available in the SKCompat class, Estimator will only accept input_fn.\n",
      "Example conversion:\n",
      "  est = Estimator(...) -> est = SKCompat(Estimator(...))\n",
      "WARNING:tensorflow:From c:\\users\\dell\\anaconda3\\envs\\tf18\\lib\\site-packages\\tensorflow\\contrib\\learn\\python\\learn\\estimators\\linear.py:845: calling BaseEstimator.predict (from tensorflow.contrib.learn.python.learn.estimators.estimator) with as_iterable is deprecated and will be removed after 2016-12-01.\n",
      "Instructions for updating:\n",
      "Estimator is decoupled from Scikit Learn interface by moving into\n",
      "separate class SKCompat. Arguments x, y and batch_size are only\n",
      "available in the SKCompat class, Estimator will only accept input_fn.\n",
      "Example conversion:\n",
      "  est = Estimator(...) -> est = SKCompat(Estimator(...))\n",
      "WARNING:tensorflow:float64 is not supported by many models, consider casting to float32.\n",
      "INFO:tensorflow:Graph was finalized.\n",
      "INFO:tensorflow:Restoring parameters from C:\\Users\\DELL\\AppData\\Local\\Temp\\tmpp790bf81\\model.ckpt-200\n",
      "INFO:tensorflow:Running local_init_op.\n",
      "INFO:tensorflow:Done running local_init_op.\n"
     ]
    },
    {
     "data": {
      "text/plain": [
       "array([30.099747, 25.007069, 30.564701, 28.610931, 27.94912 , 25.247356,\n",
       "       22.981886, 19.513483, 11.49988 , 18.895947], dtype=float32)"
      ]
     },
     "execution_count": 5,
     "metadata": {},
     "output_type": "execute_result"
    }
   ],
   "source": [
    "#Preidction\n",
    "\n",
    "x_data_1 = x_data[:10]\n",
    "pred =reg.predict(x= x_data_1,as_iterable=False)\n",
    "pred"
   ]
  },
  {
   "cell_type": "code",
   "execution_count": 6,
   "metadata": {},
   "outputs": [
    {
     "data": {
      "text/plain": [
       "array([24. , 21.6, 34.7, 33.4, 36.2, 28.7, 22.9, 27.1, 16.5, 18.9])"
      ]
     },
     "execution_count": 6,
     "metadata": {},
     "output_type": "execute_result"
    }
   ],
   "source": [
    "#Ground Truth\n",
    "y_data[:10]"
   ]
  },
  {
   "cell_type": "markdown",
   "metadata": {},
   "source": [
    "# 2) Logistic Regressor"
   ]
  },
  {
   "cell_type": "code",
   "execution_count": 7,
   "metadata": {},
   "outputs": [],
   "source": [
    "import sys \n",
    "import numpy as np \n",
    "from tensorflow.examples.tutorials.mnist import input_data \n",
    "\n",
    "DATA_DIR = '/tmp/data' if not 'win32' in sys.platform else \"c:\\\\tmp\\\\data\" "
   ]
  },
  {
   "cell_type": "code",
   "execution_count": 8,
   "metadata": {},
   "outputs": [
    {
     "name": "stdout",
     "output_type": "stream",
     "text": [
      "WARNING:tensorflow:From <ipython-input-8-eba060cf09fa>:1: read_data_sets (from tensorflow.contrib.learn.python.learn.datasets.mnist) is deprecated and will be removed in a future version.\n",
      "Instructions for updating:\n",
      "Please use alternatives such as official/mnist/dataset.py from tensorflow/models.\n",
      "WARNING:tensorflow:From c:\\users\\dell\\anaconda3\\envs\\tf18\\lib\\site-packages\\tensorflow\\contrib\\learn\\python\\learn\\datasets\\mnist.py:260: maybe_download (from tensorflow.contrib.learn.python.learn.datasets.base) is deprecated and will be removed in a future version.\n",
      "Instructions for updating:\n",
      "Please write your own downloading logic.\n",
      "WARNING:tensorflow:From c:\\users\\dell\\anaconda3\\envs\\tf18\\lib\\site-packages\\tensorflow\\contrib\\learn\\python\\learn\\datasets\\base.py:252: _internal_retry.<locals>.wrap.<locals>.wrapped_fn (from tensorflow.contrib.learn.python.learn.datasets.base) is deprecated and will be removed in a future version.\n",
      "Instructions for updating:\n",
      "Please use urllib or similar directly.\n",
      "Successfully downloaded train-images-idx3-ubyte.gz 9912422 bytes.\n",
      "WARNING:tensorflow:From c:\\users\\dell\\anaconda3\\envs\\tf18\\lib\\site-packages\\tensorflow\\contrib\\learn\\python\\learn\\datasets\\mnist.py:262: extract_images (from tensorflow.contrib.learn.python.learn.datasets.mnist) is deprecated and will be removed in a future version.\n",
      "Instructions for updating:\n",
      "Please use tf.data to implement this functionality.\n",
      "Extracting c:\\tmp\\data\\train-images-idx3-ubyte.gz\n",
      "Successfully downloaded train-labels-idx1-ubyte.gz 28881 bytes.\n",
      "WARNING:tensorflow:From c:\\users\\dell\\anaconda3\\envs\\tf18\\lib\\site-packages\\tensorflow\\contrib\\learn\\python\\learn\\datasets\\mnist.py:267: extract_labels (from tensorflow.contrib.learn.python.learn.datasets.mnist) is deprecated and will be removed in a future version.\n",
      "Instructions for updating:\n",
      "Please use tf.data to implement this functionality.\n",
      "Extracting c:\\tmp\\data\\train-labels-idx1-ubyte.gz\n",
      "Successfully downloaded t10k-images-idx3-ubyte.gz 1648877 bytes.\n",
      "Extracting c:\\tmp\\data\\t10k-images-idx3-ubyte.gz\n",
      "Successfully downloaded t10k-labels-idx1-ubyte.gz 4542 bytes.\n",
      "Extracting c:\\tmp\\data\\t10k-labels-idx1-ubyte.gz\n",
      "WARNING:tensorflow:From c:\\users\\dell\\anaconda3\\envs\\tf18\\lib\\site-packages\\tensorflow\\contrib\\learn\\python\\learn\\datasets\\mnist.py:290: DataSet.__init__ (from tensorflow.contrib.learn.python.learn.datasets.mnist) is deprecated and will be removed in a future version.\n",
      "Instructions for updating:\n",
      "Please use alternatives such as official/mnist/dataset.py from tensorflow/models.\n"
     ]
    }
   ],
   "source": [
    "data = input_data.read_data_sets(DATA_DIR, one_hot=False) \n",
    "\n",
    "x_data, y_data = data.train.images,data.train.labels.astype(np.int32) \n",
    "x_test, y_test = data.test.images,data.test.labels.astype(np.int32) \n"
   ]
  },
  {
   "cell_type": "code",
   "execution_count": 9,
   "metadata": {},
   "outputs": [],
   "source": [
    "#Note that in this case, due to the requirement of the estimator, we pass the target in its class label form:\n",
    "one_hot=False"
   ]
  },
  {
   "cell_type": "code",
   "execution_count": 10,
   "metadata": {},
   "outputs": [
    {
     "name": "stdout",
     "output_type": "stream",
     "text": [
      "WARNING:tensorflow:From c:\\users\\dell\\anaconda3\\envs\\tf18\\lib\\site-packages\\tensorflow\\contrib\\learn\\python\\learn\\estimators\\dnn.py:378: multi_class_head (from tensorflow.contrib.learn.python.learn.estimators.head) is deprecated and will be removed in a future version.\n",
      "Instructions for updating:\n",
      "Please switch to tf.contrib.estimator.*_head.\n",
      "INFO:tensorflow:Using default config.\n",
      "WARNING:tensorflow:Using temporary folder as model directory: C:\\Users\\DELL\\AppData\\Local\\Temp\\tmp9va63u9i\n",
      "INFO:tensorflow:Using config: {'_task_type': None, '_task_id': 0, '_cluster_spec': <tensorflow.python.training.server_lib.ClusterSpec object at 0x00000226D427BF28>, '_master': '', '_num_ps_replicas': 0, '_num_worker_replicas': 0, '_environment': 'local', '_is_chief': True, '_evaluation_master': '', '_train_distribute': None, '_eval_distribute': None, '_device_fn': None, '_tf_config': gpu_options {\n",
      "  per_process_gpu_memory_fraction: 1.0\n",
      "}\n",
      ", '_tf_random_seed': None, '_save_summary_steps': 100, '_save_checkpoints_secs': 600, '_log_step_count_steps': 100, '_protocol': None, '_session_config': None, '_save_checkpoints_steps': None, '_keep_checkpoint_max': 5, '_keep_checkpoint_every_n_hours': 10000, '_model_dir': 'C:\\\\Users\\\\DELL\\\\AppData\\\\Local\\\\Temp\\\\tmp9va63u9i'}\n",
      "INFO:tensorflow:Create CheckpointSaverHook.\n",
      "INFO:tensorflow:Graph was finalized.\n",
      "INFO:tensorflow:Running local_init_op.\n",
      "INFO:tensorflow:Done running local_init_op.\n",
      "INFO:tensorflow:Saving checkpoints for 0 into C:\\Users\\DELL\\AppData\\Local\\Temp\\tmp9va63u9i\\model.ckpt.\n",
      "INFO:tensorflow:loss = 2.428025, step = 0\n",
      "INFO:tensorflow:global_step/sec: 145.465\n",
      "INFO:tensorflow:loss = 0.18404599, step = 100 (0.686 sec)\n",
      "INFO:tensorflow:global_step/sec: 161.733\n",
      "INFO:tensorflow:loss = 0.1675549, step = 200 (0.620 sec)\n",
      "INFO:tensorflow:global_step/sec: 172.413\n",
      "INFO:tensorflow:loss = 0.09891449, step = 300 (0.581 sec)\n",
      "INFO:tensorflow:global_step/sec: 152.395\n",
      "INFO:tensorflow:loss = 0.18229693, step = 400 (0.657 sec)\n",
      "INFO:tensorflow:global_step/sec: 146.216\n",
      "INFO:tensorflow:loss = 0.18828392, step = 500 (0.684 sec)\n",
      "INFO:tensorflow:global_step/sec: 153.528\n",
      "INFO:tensorflow:loss = 0.10919617, step = 600 (0.649 sec)\n",
      "INFO:tensorflow:global_step/sec: 161.774\n",
      "INFO:tensorflow:loss = 0.05705346, step = 700 (0.619 sec)\n",
      "INFO:tensorflow:global_step/sec: 161.154\n",
      "INFO:tensorflow:loss = 0.18905115, step = 800 (0.622 sec)\n",
      "INFO:tensorflow:global_step/sec: 163.738\n",
      "INFO:tensorflow:loss = 0.06161175, step = 900 (0.611 sec)\n",
      "INFO:tensorflow:global_step/sec: 168.278\n",
      "INFO:tensorflow:loss = 0.17391375, step = 1000 (0.594 sec)\n",
      "INFO:tensorflow:global_step/sec: 151.018\n",
      "INFO:tensorflow:loss = 0.11866845, step = 1100 (0.662 sec)\n",
      "INFO:tensorflow:global_step/sec: 155.131\n",
      "INFO:tensorflow:loss = 0.033740424, step = 1200 (0.643 sec)\n",
      "INFO:tensorflow:global_step/sec: 157.848\n",
      "INFO:tensorflow:loss = 0.0878164, step = 1300 (0.634 sec)\n",
      "INFO:tensorflow:global_step/sec: 146.541\n",
      "INFO:tensorflow:loss = 0.030534526, step = 1400 (0.680 sec)\n",
      "INFO:tensorflow:global_step/sec: 160.641\n",
      "INFO:tensorflow:loss = 0.028438639, step = 1500 (0.625 sec)\n",
      "INFO:tensorflow:global_step/sec: 166.676\n",
      "INFO:tensorflow:loss = 0.07974224, step = 1600 (0.600 sec)\n",
      "INFO:tensorflow:global_step/sec: 162.91\n",
      "INFO:tensorflow:loss = 0.091219805, step = 1700 (0.614 sec)\n",
      "INFO:tensorflow:global_step/sec: 163.334\n",
      "INFO:tensorflow:loss = 0.02847681, step = 1800 (0.611 sec)\n",
      "INFO:tensorflow:global_step/sec: 160.066\n",
      "INFO:tensorflow:loss = 0.04847146, step = 1900 (0.625 sec)\n",
      "INFO:tensorflow:Saving checkpoints for 2000 into C:\\Users\\DELL\\AppData\\Local\\Temp\\tmp9va63u9i\\model.ckpt.\n",
      "INFO:tensorflow:Loss for final step: 0.014945747.\n",
      "INFO:tensorflow:Starting evaluation at 2018-12-23-11:33:38\n",
      "INFO:tensorflow:Graph was finalized.\n",
      "INFO:tensorflow:Restoring parameters from C:\\Users\\DELL\\AppData\\Local\\Temp\\tmp9va63u9i\\model.ckpt-2000\n",
      "INFO:tensorflow:Running local_init_op.\n",
      "INFO:tensorflow:Done running local_init_op.\n",
      "INFO:tensorflow:Evaluation [1/1]\n",
      "INFO:tensorflow:Finished evaluation at 2018-12-23-11:33:38\n",
      "INFO:tensorflow:Saving dict for global step 2000: accuracy = 0.9777, global_step = 2000, loss = 0.074566655\n",
      "test accuracy: 0.9776999950408936\n"
     ]
    }
   ],
   "source": [
    "NUM_STEPS = 2000 \n",
    "MINIBATCH_SIZE = 128\n",
    "\n",
    "#Initialize Feature_column\n",
    "feature_columns = learn.infer_real_valued_columns_from_input(x_data)\n",
    "\n",
    "#Initialize DNN Estimator\n",
    "dnn = learn.DNNClassifier(feature_columns=feature_columns,hidden_units=[200],n_classes=10,optimizer=tf.train.ProximalAdagradOptimizer(learning_rate=0.2))\n",
    "\n",
    "#Train the Model\n",
    "dnn.fit(x=x_data,y=y_data, steps=NUM_STEPS,batch_size=MINIBATCH_SIZE)\n",
    "\n",
    "#Print Accuracy\n",
    "test_acc = dnn.evaluate(x=x_test,y=y_test, steps=1)[\"accuracy\"] \n",
    "print('test accuracy: {}'.format(test_acc))\n",
    "\n"
   ]
  },
  {
   "cell_type": "code",
   "execution_count": 12,
   "metadata": {},
   "outputs": [
    {
     "name": "stdout",
     "output_type": "stream",
     "text": [
      "INFO:tensorflow:Graph was finalized.\n",
      "INFO:tensorflow:Restoring parameters from C:\\Users\\DELL\\AppData\\Local\\Temp\\tmp9va63u9i\\model.ckpt-2000\n",
      "INFO:tensorflow:Running local_init_op.\n",
      "INFO:tensorflow:Done running local_init_op.\n"
     ]
    },
    {
     "data": {
      "text/plain": [
       "array([[ 972,    1,    0,    0,    1,    1,    2,    1,    2,    0],\n",
       "       [   0, 1126,    2,    2,    0,    0,    2,    0,    3,    0],\n",
       "       [   6,    3, 1001,    2,    3,    1,    2,    8,    6,    0],\n",
       "       [   1,    0,    3,  998,    0,    0,    0,    3,    4,    1],\n",
       "       [   2,    0,    5,    1,  963,    0,    2,    2,    1,    6],\n",
       "       [   3,    0,    0,   14,    1,  859,    6,    1,    6,    2],\n",
       "       [   4,    3,    0,    1,    3,    3,  944,    0,    0,    0],\n",
       "       [   1,    6,    8,    2,    1,    0,    0, 1004,    1,    5],\n",
       "       [   4,    0,    3,    7,    4,    1,    6,    2,  945,    2],\n",
       "       [   5,    4,    0,    8,   14,    2,    1,    9,    1,  965]],\n",
       "      dtype=int64)"
      ]
     },
     "execution_count": 12,
     "metadata": {},
     "output_type": "execute_result"
    }
   ],
   "source": [
    "# Evaluate Metrix\n",
    "from sklearn.metrics import confusion_matrix\n",
    "\n",
    "y_pred = dnn.predict(x=x_test,as_iterable=False) \n",
    "class_names = ['0','1','2','3','4','5','6','7','8','9']    \n",
    "cnf_matrix = confusion_matrix(y_test, y_pred) \n",
    "cnf_matrix"
   ]
  },
  {
   "cell_type": "code",
   "execution_count": null,
   "metadata": {},
   "outputs": [],
   "source": []
  }
 ],
 "metadata": {
  "kernelspec": {
   "display_name": "Python 3",
   "language": "python",
   "name": "python3"
  },
  "language_info": {
   "codemirror_mode": {
    "name": "ipython",
    "version": 3
   },
   "file_extension": ".py",
   "mimetype": "text/x-python",
   "name": "python",
   "nbconvert_exporter": "python",
   "pygments_lexer": "ipython3",
   "version": "3.6.7"
  }
 },
 "nbformat": 4,
 "nbformat_minor": 2
}
