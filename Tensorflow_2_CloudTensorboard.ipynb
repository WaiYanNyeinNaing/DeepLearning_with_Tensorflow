{
  "nbformat": 4,
  "nbformat_minor": 0,
  "metadata": {
    "colab": {
      "name": "Tensorflow_2_Tensorboard.ipynb",
      "version": "0.3.2",
      "provenance": [],
      "collapsed_sections": [],
      "include_colab_link": true
    },
    "kernelspec": {
      "name": "python3",
      "display_name": "Python 3"
    },
    "accelerator": "GPU"
  },
  "cells": [
    {
      "cell_type": "markdown",
      "metadata": {
        "id": "view-in-github",
        "colab_type": "text"
      },
      "source": [
        "[View in Colaboratory](https://colab.research.google.com/github/WaiYanNyeinNaing/GoogleCloud_DeepLearning_with_Tensorflow/blob/master/Tensorflow_2_CloudTensorboard.ipynb)"
      ]
    },
    {
      "metadata": {
        "id": "nECXAiO8u7Ed",
        "colab_type": "text"
      },
      "cell_type": "markdown",
      "source": [
        "**Previous Tensorflow Program- Check in Tensorflow_1.ipynb**"
      ]
    },
    {
      "metadata": {
        "id": "qr340danteNj",
        "colab_type": "code",
        "colab": {
          "base_uri": "https://localhost:8080/",
          "height": 33
        },
        "outputId": "db9f2e87-1579-4c32-f1ab-31da373ad3ee"
      },
      "cell_type": "code",
      "source": [
        "import tensorflow as tf\n",
        "\n",
        "a = tf.constant(2)\n",
        "b = tf.constant(3)\n",
        "x = tf.add(a, b)\n",
        "\n",
        "with tf.Session() as sess:\n",
        "  print(sess.run(x))\n"
      ],
      "execution_count": 1,
      "outputs": [
        {
          "output_type": "stream",
          "text": [
            "5\n"
          ],
          "name": "stdout"
        }
      ]
    },
    {
      "metadata": {
        "id": "FjyyMIVtyfjC",
        "colab_type": "text"
      },
      "cell_type": "markdown",
      "source": [
        "**Setup Tensorboard for Google Cloud Enviroment Using ngrok**"
      ]
    },
    {
      "metadata": {
        "id": "0fZaOzCVwOGX",
        "colab_type": "code",
        "colab": {}
      },
      "cell_type": "code",
      "source": [
        "#File Download\n",
        "\n",
        "\"\"\"\n",
        "!wget https://bin.equinox.io/c/4VmDzA7iaHb/ngrok-stable-linux-amd64.zip\n",
        "!unzip ngrok-stable-linux-amd64.zip\n",
        "\"\"\""
      ],
      "execution_count": 0,
      "outputs": []
    },
    {
      "metadata": {
        "id": "-tPKEVrSy9Q9",
        "colab_type": "text"
      },
      "cell_type": "markdown",
      "source": [
        ""
      ]
    },
    {
      "metadata": {
        "id": "-M8U49Vovg29",
        "colab_type": "text"
      },
      "cell_type": "markdown",
      "source": [
        "**Let's make FileWriter for Tensorboard**\n"
      ]
    },
    {
      "metadata": {
        "id": "JHFRqiCdvciE",
        "colab_type": "code",
        "colab": {
          "base_uri": "https://localhost:8080/",
          "height": 33
        },
        "outputId": "11202bb3-7be6-4f56-d7c9-e3f13d5ed506"
      },
      "cell_type": "code",
      "source": [
        "import tensorflow as tf\n",
        "\n",
        "#Variables\n",
        "a = tf.constant(2)\n",
        "b = tf.constant(3)\n",
        "\n",
        "#Graph\n",
        "x = tf.add(a, b)\n",
        "\n",
        "#Tensorboard Operation\n",
        "writer = tf.summary.FileWriter('./log', tf.get_default_graph())\n",
        "writer.close()\n",
        "\n",
        "with tf.Session() as sess:\n",
        "  print(sess.run(x))\n"
      ],
      "execution_count": 7,
      "outputs": [
        {
          "output_type": "stream",
          "text": [
            "5\n"
          ],
          "name": "stdout"
        }
      ]
    },
    {
      "metadata": {
        "id": "vBBoa4cFzQV4",
        "colab_type": "text"
      },
      "cell_type": "markdown",
      "source": [
        "**Visualize Tensorboard**\n",
        "\n",
        "Run this URL to visualize tensorboard\n",
        "\n"
      ]
    },
    {
      "metadata": {
        "id": "Vu9YS2nmzXxI",
        "colab_type": "code",
        "colab": {
          "base_uri": "https://localhost:8080/",
          "height": 33
        },
        "outputId": "1dbac242-67ac-42c7-d333-4add147d81b6"
      },
      "cell_type": "code",
      "source": [
        "#Setup & Run for Tensorboard_Cloud\n",
        "\n",
        "\n",
        "#Summary FileWriter Direction\n",
        "LOG_DIR = './log'    \n",
        "\n",
        "get_ipython().system_raw(\n",
        "    'tensorboard --logdir {} --host 0.0.0.0 --port 6006 &'\n",
        "    .format(LOG_DIR)\n",
        ")\n",
        "\n",
        "get_ipython().system_raw('./ngrok http 6006 &')\n",
        "! curl -s http://localhost:4040/api/tunnels | python3 -c \\\n",
        "    \"import sys, json; print(json.load(sys.stdin)['tunnels'][0]['public_url'])\""
      ],
      "execution_count": 8,
      "outputs": [
        {
          "output_type": "stream",
          "text": [
            "http://397f97f8.ngrok.io\n"
          ],
          "name": "stdout"
        }
      ]
    },
    {
      "metadata": {
        "id": "6xYREb6M00n7",
        "colab_type": "text"
      },
      "cell_type": "markdown",
      "source": [
        "**Explicitly name Sub-Graphs**"
      ]
    },
    {
      "metadata": {
        "id": "a5Yxk9W_0cFt",
        "colab_type": "code",
        "colab": {
          "base_uri": "https://localhost:8080/",
          "height": 33
        },
        "outputId": "3fbe2bc6-81d9-4de2-c29c-3f5b8f33da03"
      },
      "cell_type": "code",
      "source": [
        "# Graph\n",
        "import tensorflow as tf\n",
        "a = tf.constant(2, name='a')\n",
        "b = tf.constant(3, name='b')\n",
        "x = tf.add(a, b, name='Sum')\n",
        "\n",
        "\n",
        "#TensorBoard\n",
        "writer = tf.summary.FileWriter('./log', tf.get_default_graph())\n",
        "\n",
        "\n",
        "#Execute Session\n",
        "with tf.Session() as sess:\n",
        "  print(sess.run(x)) \n",
        "  \n",
        "  \n",
        "#Run URL to visualize tensorboard  \n",
        "#http:// . . ."
      ],
      "execution_count": 11,
      "outputs": [
        {
          "output_type": "stream",
          "text": [
            "5\n"
          ],
          "name": "stdout"
        }
      ]
    },
    {
      "metadata": {
        "id": "mG24_vVB1HRS",
        "colab_type": "code",
        "colab": {}
      },
      "cell_type": "code",
      "source": [
        ""
      ],
      "execution_count": 0,
      "outputs": []
    }
  ]
}