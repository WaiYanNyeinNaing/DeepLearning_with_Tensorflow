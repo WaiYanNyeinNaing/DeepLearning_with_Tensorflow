{
  "nbformat": 4,
  "nbformat_minor": 0,
  "metadata": {
    "colab": {
      "name": "Tensorflow_1.ipynb",
      "version": "0.3.2",
      "provenance": [],
      "collapsed_sections": [],
      "include_colab_link": true
    },
    "kernelspec": {
      "name": "python3",
      "display_name": "Python 3"
    },
    "accelerator": "GPU"
  },
  "cells": [
    {
      "cell_type": "markdown",
      "metadata": {
        "id": "view-in-github",
        "colab_type": "text"
      },
      "source": [
        "[View in Colaboratory](https://colab.research.google.com/github/WaiYanNyeinNaing/DeepLearning_with_Tensorflow/blob/master/Tensorflow_1.ipynb)"
      ]
    },
    {
      "metadata": {
        "id": "p_J-TWAidLMg",
        "colab_type": "text"
      },
      "cell_type": "markdown",
      "source": [
        "**What is  Tensor ?**\n",
        "\n",
        "1) 0 dimensional tensor = scalar (numbers) (eg, 2 , 3, 4)\n",
        "\n",
        "2) 1 dimensional tensor = vector                     (eg,  (x,y), (2,3) )\n",
        "\n",
        "3) 2 dimensional tensor = matrix                     (eg,  [1,2,3 ;  4,5,6 ; 8,9,10] ) (3 x 3) matrix\n",
        "\n",
        "and so on . .\n",
        "                                                                             \n",
        " \n"
      ]
    },
    {
      "metadata": {
        "id": "E1g5EtC1ew-s",
        "colab_type": "text"
      },
      "cell_type": "markdown",
      "source": [
        "**Tensorflow  = data + flow **\n",
        "\n",
        "1) Create Graph \n",
        "\n",
        "2) Execute Session\n",
        "\n",
        "---\n",
        "**1)** **Tensor Flow Graph**\n",
        "\n",
        "![alt text](https://github.com/WaiYanNyeinNaing/DeepLearning_with_Tensorflow/blob/master/single.jpg)\n",
        "\n",
        "\n",
        "\n"
      ]
    },
    {
      "metadata": {
        "id": "4ZZmgz7pdBUs",
        "colab_type": "code",
        "colab": {
          "base_uri": "https://localhost:8080/",
          "height": 33
        },
        "outputId": "7fe551fb-69b5-4518-815a-f5d53d14de64"
      },
      "cell_type": "code",
      "source": [
        "#Import Tensorflow\n",
        "import tensorflow as tf\n",
        "\n",
        "#variable\n",
        "x = 5\n",
        "y = 8\n",
        "\n",
        "#Create Graph\n",
        "a = tf.add(x,y)\n",
        "a\n"
      ],
      "execution_count": 18,
      "outputs": [
        {
          "output_type": "execute_result",
          "data": {
            "text/plain": [
              "<tf.Tensor 'Add_5:0' shape=() dtype=int32>"
            ]
          },
          "metadata": {
            "tags": []
          },
          "execution_count": 18
        }
      ]
    },
    {
      "metadata": {
        "id": "vjTUhnrZhDpY",
        "colab_type": "text"
      },
      "cell_type": "markdown",
      "source": [
        "**2) Execute Session for Single Graph Operation**\n",
        "\n",
        "\n",
        "\n",
        "---\n",
        "\n",
        "A  Session object encapsulates the environment in which Operation objects are executed, and Tensor objects are evaluated.\n"
      ]
    },
    {
      "metadata": {
        "id": "C6SnM-7Oe1Md",
        "colab_type": "code",
        "colab": {
          "base_uri": "https://localhost:8080/",
          "height": 33
        },
        "outputId": "fd2bfa8e-005a-40bc-8541-93ed5bddf2f9"
      },
      "cell_type": "code",
      "source": [
        "# Run the Session & Print Value\n",
        "\n",
        "with tf.Session() as sess:\n",
        "  print(sess.run(a)) "
      ],
      "execution_count": 19,
      "outputs": [
        {
          "output_type": "stream",
          "text": [
            "13\n"
          ],
          "name": "stdout"
        }
      ]
    },
    {
      "metadata": {
        "id": "MAyDGIkvhwYZ",
        "colab_type": "text"
      },
      "cell_type": "markdown",
      "source": [
        "**Multiple Sub-Graphs** \n",
        "\n",
        "![alt text](https://github.com/WaiYanNyeinNaing/DeepLearning_with_Tensorflow/blob/master/multi_graphs.jpg)\n"
      ]
    },
    {
      "metadata": {
        "id": "kf6H_Cx6gRkb",
        "colab_type": "code",
        "colab": {}
      },
      "cell_type": "code",
      "source": [
        "#Create Graphs\n",
        "\n",
        "#Input Variables\n",
        "x = 2\n",
        "y = 3\n",
        "\n",
        "\n",
        "#Multiples Sub-Graphs/Operations\n",
        "op1 = tf.add(x, y)\n",
        "op2 = tf.multiply(x, y)\n",
        "op3 = tf.pow(op2, op1)\n"
      ],
      "execution_count": 0,
      "outputs": []
    },
    {
      "metadata": {
        "id": "6iV4CEMGiNdD",
        "colab_type": "code",
        "colab": {
          "base_uri": "https://localhost:8080/",
          "height": 33
        },
        "outputId": "e8daa1d5-3581-4097-90f1-d8e4e942a231"
      },
      "cell_type": "code",
      "source": [
        "#Execute the Session\n",
        "\n",
        "with tf.Session() as sess:\n",
        "  result = sess.run(op3)\n",
        "  print(result)\n",
        "  "
      ],
      "execution_count": 21,
      "outputs": [
        {
          "output_type": "stream",
          "text": [
            "7776\n"
          ],
          "name": "stdout"
        }
      ]
    },
    {
      "metadata": {
        "id": "n42ewsBaintt",
        "colab_type": "code",
        "colab": {
          "base_uri": "https://localhost:8080/",
          "height": 67
        },
        "outputId": "49482022-5a54-4797-a057-cac43c308ea2"
      },
      "cell_type": "code",
      "source": [
        "#Execute the Session for multiples operations/sub-graphs\n",
        "\n",
        "with tf.Session() as sess:\n",
        "  result1,result2,result3 = sess.run([op1,op2,op3])\n",
        "  print(\"Add :\" , result1)\n",
        "  print(\"Multiply :\" , result2)\n",
        "  print(\"Power :\" , result3)\n",
        "  "
      ],
      "execution_count": 22,
      "outputs": [
        {
          "output_type": "stream",
          "text": [
            "Add : 5\n",
            "Multiply : 6\n",
            "Power : 7776\n"
          ],
          "name": "stdout"
        }
      ]
    },
    {
      "metadata": {
        "id": "ZXOS1P2boH_Z",
        "colab_type": "text"
      },
      "cell_type": "markdown",
      "source": [
        "**Why Graph ?**\n",
        "\n",
        "1) Save computation. Only run subgraphs that lead to the values you want to fetch.\n",
        "\n",
        "2) Break computation into small, differential pieces to facilitate auto-differentiation\n",
        "\n",
        "3) Facilitate distributed computation, spread the work across multiple CPUs, GPUs, TPUs, or other   \n",
        "     devices\n",
        "\n",
        "4) Many common machine learning models are taught and visualized as directed graphs\n",
        "\n"
      ]
    },
    {
      "metadata": {
        "id": "psoEg6clnLYN",
        "colab_type": "code",
        "colab": {}
      },
      "cell_type": "code",
      "source": [
        ""
      ],
      "execution_count": 0,
      "outputs": []
    }
  ]
}