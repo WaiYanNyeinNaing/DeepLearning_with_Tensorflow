{
  "nbformat": 4,
  "nbformat_minor": 0,
  "metadata": {
    "colab": {
      "name": "Tensorflow3_UploadDataset.ipynb",
      "version": "0.3.2",
      "provenance": [],
      "collapsed_sections": [],
      "include_colab_link": true
    },
    "kernelspec": {
      "name": "python3",
      "display_name": "Python 3"
    },
    "accelerator": "GPU"
  },
  "cells": [
    {
      "cell_type": "markdown",
      "metadata": {
        "id": "view-in-github",
        "colab_type": "text"
      },
      "source": [
        "[View in Colaboratory](https://colab.research.google.com/github/WaiYanNyeinNaing/GoogleCloud_DeepLearning_with_Tensorflow/blob/master/Tensorflow3_UploadDataset_Cloud.ipynb)"
      ]
    },
    {
      "metadata": {
        "id": "6_kZ5sEg-umV",
        "colab_type": "text"
      },
      "cell_type": "markdown",
      "source": [
        "# Export Dataset into Cloud"
      ]
    },
    {
      "metadata": {
        "id": "hMYRxcyVw7yQ",
        "colab_type": "code",
        "colab": {
          "base_uri": "https://localhost:8080/",
          "height": 70
        },
        "outputId": "3e6f4795-68de-491f-f3eb-06e3b3a3b013"
      },
      "cell_type": "code",
      "source": [
        "# Load the Drive helper and mount\n",
        "from google.colab import drive\n",
        "\n",
        "# This will prompt for authorization.\n",
        "drive.mount('/content/drive/')"
      ],
      "execution_count": 0,
      "outputs": [
        {
          "output_type": "stream",
          "text": [
            "Go to this URL in a browser: https://accounts.google.com/o/oauth2/auth?client_id=947318989803-6bn6qk8qdgf4n4g3pfee6491hc0brc4i.apps.googleusercontent.com&redirect_uri=urn%3Aietf%3Awg%3Aoauth%3A2.0%3Aoob&scope=email%20https%3A%2F%2Fwww.googleapis.com%2Fauth%2Fdocs.test%20https%3A%2F%2Fwww.googleapis.com%2Fauth%2Fdrive%20https%3A%2F%2Fwww.googleapis.com%2Fauth%2Fdrive.photos.readonly%20https%3A%2F%2Fwww.googleapis.com%2Fauth%2Fpeopleapi.readonly&response_type=code\n",
            "Enter your authorization code:\n"
          ],
          "name": "stdout"
        }
      ]
    },
    {
      "metadata": {
        "id": "BnXh1CHvxAdf",
        "colab_type": "code",
        "colab": {
          "base_uri": "https://localhost:8080/",
          "height": 84
        },
        "outputId": "88190445-4995-456c-ff07-8eed3197afdb"
      },
      "cell_type": "code",
      "source": [
        "# After executing the cell above, Drive\n",
        "# files will be present in \"/content/drive/My Drive\".\n",
        "!ls \"/content/drive/My Drive/tensorflow_LearnAI\""
      ],
      "execution_count": 78,
      "outputs": [
        {
          "output_type": "stream",
          "text": [
            "Dataproc.png\t  Tensorflow_1.ipynb\n",
            "dataset\t\t  Tensorflow_2_Tensorboard.ipynb\n",
            "multi_graphs.jpg  Tensorflow3_UploadDataset.ipynb\n",
            "single.jpg\n"
          ],
          "name": "stdout"
        }
      ]
    },
    {
      "metadata": {
        "id": "hXiOPNKux0r2",
        "colab_type": "code",
        "colab": {}
      },
      "cell_type": "code",
      "source": [
        "#Then Upload your dataset in the local folder of google drive (where current colab file is open)\n",
        "#dataset link => https://github.com/zalandoresearch/fashion-mnist#get-the-data"
      ],
      "execution_count": 0,
      "outputs": []
    }
  ]
}